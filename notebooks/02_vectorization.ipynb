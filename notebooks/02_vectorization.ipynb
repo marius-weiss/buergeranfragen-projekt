{
 "cells": [
  {
   "cell_type": "markdown",
   "id": "cdc5280d",
   "metadata": {},
   "source": [
    "# Teil 2: TF-IDF-Vektorisierung und Vorbereitung für Klassifikation"
   ]
  },
  {
   "cell_type": "markdown",
   "id": "94c26d04",
   "metadata": {},
   "source": [
    "In diesem Notebook wandeln wir die Anfragetexte in numerische Vektoren um, um sie später mit einem Machine-Learning-Modell zu klassifizieren."
   ]
  },
  {
   "cell_type": "code",
   "execution_count": 1,
   "id": "fde2a9d8",
   "metadata": {},
   "outputs": [
    {
     "name": "stdout",
     "output_type": "stream",
     "text": [
      "Beispiele:\n",
      "0      Meine Mülltonne wurde heute nicht geleert.\n",
      "1        Seit Tagen liegt Sperrmüll vor dem Haus.\n",
      "2    Wann ist die nächste Abholung von Altpapier?\n",
      "3               Die Wertstoffinsel ist überfüllt.\n",
      "4      Warum wurde mein Bioabfall nicht abgeholt?\n",
      "Name: anfrage, dtype: object\n",
      "0    Abfall\n",
      "1    Abfall\n",
      "2    Abfall\n",
      "3    Abfall\n",
      "4    Abfall\n",
      "Name: kategorie, dtype: object\n"
     ]
    }
   ],
   "source": [
    "# Daten laden\n",
    "import pandas as pd\n",
    "\n",
    "df = pd.read_csv(\"../data/raw/buergeranfragen_sample.csv\", sep=\";\")\n",
    "\n",
    "# Textspalte und Zielspalte vorbereiten\n",
    "texts = df[\"anfrage\"]\n",
    "labels = df[\"kategorie\"]\n",
    "\n",
    "print(\"Beispiele:\")\n",
    "print(texts.head())\n",
    "print(labels.head())"
   ]
  },
  {
   "cell_type": "code",
   "execution_count": null,
   "id": "62d17e0a",
   "metadata": {},
   "outputs": [],
   "source": [
    "# Preprocessing \n",
    "import re\n",
    "\n",
    "def clean_text(text):\n",
    "    text = text.lower()\n",
    "    text = re.sub(r\"[^\\w\\s]\", \"\", text)\n",
    "    return text\n",
    "\n",
    "texts_clean = texts.apply(clean_text)"
   ]
  },
  {
   "cell_type": "code",
   "execution_count": 3,
   "id": "3ad1b029",
   "metadata": {},
   "outputs": [
    {
     "name": "stdout",
     "output_type": "stream",
     "text": [
      "Feature-Matrix: (60, 174)\n",
      "Beispiel-Feature (erste Anfrage):\n",
      "  (0, 100)\t0.3743833211106889\n",
      "  (0, 113)\t0.40330024169735057\n",
      "  (0, 167)\t0.3743833211106889\n",
      "  (0, 85)\t0.44405635219078843\n",
      "  (0, 118)\t0.40330024169735057\n",
      "  (0, 72)\t0.44405635219078843\n"
     ]
    }
   ],
   "source": [
    "# TF-IDF-Vektorisierung\n",
    "from sklearn.feature_extraction.text import TfidfVectorizer\n",
    "\n",
    "vectorizer = TfidfVectorizer()\n",
    "X = vectorizer.fit_transform(texts_clean)\n",
    "y = labels\n",
    "\n",
    "print(f\"Feature-Matrix: {X.shape}\")\n",
    "print(f\"Beispiel-Feature (erste Anfrage):\\n{X[0]}\")"
   ]
  },
  {
   "cell_type": "code",
   "execution_count": 4,
   "id": "b0c63c6b",
   "metadata": {},
   "outputs": [
    {
     "name": "stdout",
     "output_type": "stream",
     "text": [
      "Trainingsgröße: (48, 174)\n",
      "Testgröße: (12, 174)\n"
     ]
    }
   ],
   "source": [
    "# Trainings-/Testdaten aufteilen\n",
    "from sklearn.model_selection import train_test_split\n",
    "\n",
    "X_train, X_test, y_train, y_test = train_test_split(X, y, test_size=0.2, random_state=42)\n",
    "\n",
    "print(\"Trainingsgröße:\", X_train.shape)\n",
    "print(\"Testgröße:\", X_test.shape)"
   ]
  },
  {
   "cell_type": "markdown",
   "id": "6d9e116b",
   "metadata": {},
   "source": [
    "Die Vektoren sind jetzt bereit für ein Machine-Learning-Modell.\n",
    "\n",
    "Im nächsten Schritt wirst du ein Modell wie Naive Bayes oder Logistic Regression trainieren."
   ]
  }
 ],
 "metadata": {
  "kernelspec": {
   "display_name": "base",
   "language": "python",
   "name": "python3"
  },
  "language_info": {
   "codemirror_mode": {
    "name": "ipython",
    "version": 3
   },
   "file_extension": ".py",
   "mimetype": "text/x-python",
   "name": "python",
   "nbconvert_exporter": "python",
   "pygments_lexer": "ipython3",
   "version": "3.12.7"
  }
 },
 "nbformat": 4,
 "nbformat_minor": 5
}
