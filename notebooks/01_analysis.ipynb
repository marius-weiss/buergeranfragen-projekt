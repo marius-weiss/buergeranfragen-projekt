{
 "cells": [
  {
   "cell_type": "markdown",
   "id": "a0e0143a",
   "metadata": {},
   "source": [
    "# Einstieg: Analyse und Verarbeitung von Bürgeranfragen"
   ]
  },
  {
   "cell_type": "markdown",
   "id": "8e1505fd",
   "metadata": {},
   "source": [
    "In diesem Notebook wird ein erster Blick auf den Datensatz geworfen sowie grundlegende Textverarbeitung durchgeführt."
   ]
  },
  {
   "cell_type": "code",
   "execution_count": 15,
   "id": "ab19e8df",
   "metadata": {},
   "outputs": [
    {
     "name": "stdout",
     "output_type": "stream",
     "text": [
      "                                        anfrage kategorie\n",
      "0    Meine Mülltonne wurde heute nicht geleert.    Abfall\n",
      "1      Seit Tagen liegt Sperrmüll vor dem Haus.    Abfall\n",
      "2  Wann ist die nächste Abholung von Altpapier?    Abfall\n",
      "3             Die Wertstoffinsel ist überfüllt.    Abfall\n",
      "4    Warum wurde mein Bioabfall nicht abgeholt?    Abfall\n",
      "\n",
      "Kategorien:\n",
      "kategorie\n",
      "Abfall           10\n",
      "Dokumente        10\n",
      "Infrastruktur    10\n",
      "Verkehr          10\n",
      "Bau              10\n",
      "Sonstiges        10\n",
      "Name: count, dtype: int64\n"
     ]
    }
   ],
   "source": [
    "# 1. Daten laden\n",
    "import pandas as pd\n",
    "\n",
    "df = pd.read_csv(\"../data/raw/buergeranfragen_sample.csv\", sep=\";\")\n",
    "\n",
    "# Überblick\n",
    "print(df.head())\n",
    "print(\"\\nKategorien:\")\n",
    "print(df[\"kategorie\"].value_counts())"
   ]
  },
  {
   "cell_type": "code",
   "execution_count": 16,
   "id": "62e7eb80",
   "metadata": {},
   "outputs": [
    {
     "data": {
      "image/png": "[encoded data removed]",
      "text/plain": [
       "<Figure size 640x480 with 1 Axes>"
      ]
     },
     "metadata": {},
     "output_type": "display_data"
    }
   ],
   "source": [
    "# 2. Visualisierung der Kategorien\n",
    "import matplotlib.pyplot as plt\n",
    "\n",
    "df[\"kategorie\"].value_counts().plot(kind=\"bar\", title=\"Verteilung der Anfragen nach Kategorie\")\n",
    "plt.ylabel(\"Anzahl\")\n",
    "plt.xlabel(\"Kategorie\")\n",
    "plt.tight_layout()\n",
    "plt.show()"
   ]
  },
  {
   "cell_type": "code",
   "execution_count": 17,
   "id": "2624f741",
   "metadata": {},
   "outputs": [
    {
     "name": "stdout",
     "output_type": "stream",
     "text": [
      "\n",
      "Beispiel (vorher/nachher):\n",
      "                                        anfrage  \\\n",
      "0    Meine Mülltonne wurde heute nicht geleert.   \n",
      "1      Seit Tagen liegt Sperrmüll vor dem Haus.   \n",
      "2  Wann ist die nächste Abholung von Altpapier?   \n",
      "3             Die Wertstoffinsel ist überfüllt.   \n",
      "4    Warum wurde mein Bioabfall nicht abgeholt?   \n",
      "\n",
      "                                    clean_text  \\\n",
      "0    meine mülltonne wurde heute nicht geleert   \n",
      "1      seit tagen liegt sperrmüll vor dem haus   \n",
      "2  wann ist die nächste abholung von altpapier   \n",
      "3             die wertstoffinsel ist überfüllt   \n",
      "4    warum wurde mein bioabfall nicht abgeholt   \n",
      "\n",
      "                                              tokens  \n",
      "0   [meine, mülltonne, wurde, heute, nicht, geleert]  \n",
      "1    [seit, tagen, liegt, sperrmüll, vor, dem, haus]  \n",
      "2  [wann, ist, die, nächste, abholung, von, altpa...  \n",
      "3              [die, wertstoffinsel, ist, überfüllt]  \n",
      "4   [warum, wurde, mein, bioabfall, nicht, abgeholt]  \n"
     ]
    }
   ],
   "source": [
    "# 3 Text-Vorverarbeitung: Kleinschreibung, Satzzeichen entfernen, einfache Tokenisierung\n",
    "import re\n",
    "\n",
    "def clean_text(text):\n",
    "    text = text.lower()\n",
    "    text = re.sub(r\"[^\\w\\s]\", \"\", text)\n",
    "    return text\n",
    "\n",
    "df[\"clean_text\"] = df[\"anfrage\"].apply(clean_text)\n",
    "\n",
    "# Einfache Tokenisierung per .split()\n",
    "df[\"tokens\"] = df[\"clean_text\"].apply(lambda x: x.split())\n",
    "\n",
    "# Beispielhafte Ausgabe\n",
    "print(\"\\nBeispiel (vorher/nachher):\")\n",
    "print(df[[\"anfrage\", \"clean_text\", \"tokens\"]].head())\n"
   ]
  }
 ],
 "metadata": {
  "kernelspec": {
   "display_name": "base",
   "language": "python",
   "name": "python3"
  },
  "language_info": {
   "codemirror_mode": {
    "name": "ipython",
    "version": 3
   },
   "file_extension": ".py",
   "mimetype": "text/x-python",
   "name": "python",
   "nbconvert_exporter": "python",
   "pygments_lexer": "ipython3",
   "version": "3.12.7"
  }
 },
 "nbformat": 4,
 "nbformat_minor": 5
}
