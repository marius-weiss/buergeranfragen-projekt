{
 "cells": [
  {
   "cell_type": "code",
   "execution_count": null,
   "id": "3eebdb5d",
   "metadata": {},
   "outputs": [],
   "source": [
    "import pandas as pd\n",
    "\n",
    "# CSV laden\n",
    "df = pd.read_csv(\"../data/raw/buergeranfragen_sample.csv\")\n",
    "\n",
    "# Überblick\n",
    "print(df.head())\n",
    "print(df['kategorie'].value_counts())\n",
    "\n",
    "# Kategorien visualisieren\n",
    "import matplotlib.pyplot as plt\n",
    "df['kategorie'].value_counts().plot(kind='bar', title='Verteilung der Anfragen nach Kategorie')\n",
    "plt.ylabel(\"Anzahl\")\n",
    "plt.show()\n"
   ]
  }
 ],
 "metadata": {
  "kernelspec": {
   "display_name": "base",
   "language": "python",
   "name": "python3"
  },
  "language_info": {
   "name": "python",
   "version": "3.12.7"
  }
 },
 "nbformat": 4,
 "nbformat_minor": 5
}
